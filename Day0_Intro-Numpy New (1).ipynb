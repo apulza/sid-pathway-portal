{
 "cells": [
  {
   "cell_type": "code",
   "execution_count": null,
   "id": "9485a459-22a8-4a7f-874d-2128e20b4baf",
   "metadata": {},
   "outputs": [],
   "source": [
    "import seaborn as sns\n",
    "import numpy as np\n",
    "\n",
    "iris = sns.load_dataset('iris')\n",
    "iris_array = iris[['sepal_length', 'sepal_width', 'petal_length', 'petal_width']].to_numpy()"
   ]
  },
  {
   "cell_type": "code",
   "execution_count": null,
   "id": "b7617e03-3ba5-4989-a662-84931dc4d60c",
   "metadata": {},
   "outputs": [
    {
     "ename": "NameError",
     "evalue": "name 'iris_array' is not defined",
     "output_type": "error",
     "traceback": [
      "\u001b[31m---------------------------------------------------------------------------\u001b[39m",
      "\u001b[31mNameError\u001b[39m                                 Traceback (most recent call last)",
      "\u001b[36mCell\u001b[39m\u001b[36m \u001b[39m\u001b[32mIn[1]\u001b[39m\u001b[32m, line 2\u001b[39m\n\u001b[32m      1\u001b[39m \u001b[38;5;66;03m#a \u001b[39;00m\n\u001b[32m----> \u001b[39m\u001b[32m2\u001b[39m \u001b[38;5;28mprint\u001b[39m(\u001b[43miris_array\u001b[49m.shape)\n",
      "\u001b[31mNameError\u001b[39m: name 'iris_array' is not defined"
     ]
    }
   ],
   "source": [
    "#a \n",
    "print(iris_array.shape)"
   ]
  },
  {
   "cell_type": "code",
   "execution_count": null,
   "id": "d9bc085a-7d04-4534-94ef-d5cb143695e8",
   "metadata": {},
   "outputs": [],
   "source": [
    "#b\n",
    "print(iris_array[-1::-10])"
   ]
  },
  {
   "cell_type": "code",
   "execution_count": null,
   "id": "f8c82d2f-34ea-4e00-9422-9c30c90b5712",
   "metadata": {},
   "outputs": [],
   "source": [
    "#c\n",
    "print(iris_array[-20:-10, -4:-2])"
   ]
  },
  {
   "cell_type": "code",
   "execution_count": null,
   "id": "04ef8638",
   "metadata": {},
   "outputs": [],
   "source": [
    "#d\n",
    "row_1d = iris_array[-50]\n",
    "print(row_1d)\n",
    "print(row_1d.shape)\n",
    "print(row_1d.T)"
   ]
  },
  {
   "cell_type": "code",
   "execution_count": null,
   "id": "3995bc2b-6a10-47a6-bfac-48e35525e28d",
   "metadata": {},
   "outputs": [],
   "source": [
    "#e\n",
    "row_2d = iris_array[[-50], :]\n",
    "print(row_2d)\n",
    "print(row_2d.shape)\n",
    "print(row_2d.T)"
   ]
  },
  {
   "cell_type": "code",
   "execution_count": null,
   "id": "42aa8870-c023-4aed-9ccb-18dd394cd6f7",
   "metadata": {},
   "outputs": [],
   "source": [
    "#f\n",
    "print(iris_array[:, -5]) \n",
    "# Index -5 is out of bounds as our array is size (1,4)\n",
    "\n"
   ]
  }
 ],
 "metadata": {
  "celltoolbar": "Edit Metadata",
  "kernelspec": {
   "display_name": "Python 3 (ipykernel)",
   "language": "python",
   "name": "python3"
  },
  "language_info": {
   "codemirror_mode": {
    "name": "ipython",
    "version": 3
   },
   "file_extension": ".py",
   "mimetype": "text/x-python",
   "name": "python",
   "nbconvert_exporter": "python",
   "pygments_lexer": "ipython3",
   "version": "3.13.0"
  }
 },
 "nbformat": 4,
 "nbformat_minor": 5
}
